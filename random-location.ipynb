{
 "cells": [
  {
   "cell_type": "markdown",
   "metadata": {},
   "source": [
    "## Get random location!"
   ]
  },
  {
   "cell_type": "code",
   "execution_count": 59,
   "metadata": {},
   "outputs": [],
   "source": [
    "from random import seed\n",
    "from random import random\n",
    "import math\n",
    "from IPython.display import display, HTML\n",
    "seed(2)\n",
    "\n",
    "LAT_TO_KM=110.574\n",
    "LONG_TO_KM_CONST=111.320\n",
    "FLINDERS_LL=[37.8183,144.9671]"
   ]
  },
  {
   "cell_type": "markdown",
   "metadata": {},
   "source": [
    "Enter starting latitude and longtitude, and how far you're willing to travel (radius):"
   ]
  },
  {
   "cell_type": "code",
   "execution_count": 60,
   "metadata": {},
   "outputs": [],
   "source": [
    "starting_ll=FLINDERS_LL\n",
    "radius_km=6.5\n",
    "\n",
    "\n"
   ]
  },
  {
   "cell_type": "markdown",
   "metadata": {},
   "source": [
    "Then run this cell and click the link that appears below it!"
   ]
  },
  {
   "cell_type": "code",
   "execution_count": 64,
   "metadata": {},
   "outputs": [
    {
     "name": "stdout",
     "output_type": "stream",
     "text": [
      "[37.83415821477252, 144.95742625414255]\n"
     ]
    },
    {
     "data": {
      "text/html": [
       "<a href='https://www.google.com/maps/search/37.83415821477252%C2%B0+S,+144.95742625414255%C2%B0+E?sa=X&ved=2ahUKEwjoo5aPhbzvAhWH4jgGHadoA_gQ8gEwAHoECAIQAQ' target=\"_blank\"> Click here to see the random destination on a map </a>"
      ],
      "text/plain": [
       "<IPython.core.display.HTML object>"
      ]
     },
     "metadata": {},
     "output_type": "display_data"
    }
   ],
   "source": [
    "# 2*pi is just for radians in circle\n",
    "angle=random()*2*math.pi\n",
    "distance_km=radius_km*random()\n",
    "km_east=math.cos(angle)*distance_km\n",
    "km_south=-math.sin(angle)*distance_km\n",
    "\n",
    "#note that km to long conversion is 1/long_to_km_const*cos(latitude)\n",
    "destination_ll=[starting_ll[0]+km_south/LAT_TO_KM, starting_ll[1]+km_east/(LONG_TO_KM_CONST*math.cos(starting_ll[1]))]\n",
    "print(destination_ll)\n",
    "link_t=\"<a href='{href}' target=\\\"_blank\\\"> Click here to see the random destination on a map </a>\"\n",
    "maps_url=\"https://www.google.com/maps/search/\"+str(destination_ll[0])+\"%C2%B0+S,+\"+str(destination_ll[1])+\"%C2%B0+E?sa=X&ved=2ahUKEwjoo5aPhbzvAhWH4jgGHadoA_gQ8gEwAHoECAIQAQ\"\n",
    "html=HTML(link_t.format(href=maps_url))\n",
    "display(html)"
   ]
  },
  {
   "cell_type": "code",
   "execution_count": null,
   "metadata": {},
   "outputs": [],
   "source": []
  }
 ],
 "metadata": {
  "kernelspec": {
   "display_name": "Python 3",
   "language": "python",
   "name": "python3"
  },
  "language_info": {
   "codemirror_mode": {
    "name": "ipython",
    "version": 3
   },
   "file_extension": ".py",
   "mimetype": "text/x-python",
   "name": "python",
   "nbconvert_exporter": "python",
   "pygments_lexer": "ipython3",
   "version": "3.8.5"
  }
 },
 "nbformat": 4,
 "nbformat_minor": 4
}
